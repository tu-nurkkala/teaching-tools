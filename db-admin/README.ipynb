{
 "cells": [
  {
   "cell_type": "markdown",
   "metadata": {},
   "source": [
    "# Course Data\n",
    "\n",
    "## DVD Rental Database\n",
    "\n",
    "Here's how to configure the DVD rental database for use in class.\n",
    "\n",
    "* Download the dataset from http://www.postgresqltutorial.com/load-postgresql-sample-database/\n",
    "\n",
    "* Unzip the data file."
   ]
  },
  {
   "cell_type": "code",
   "execution_count": null,
   "metadata": {},
   "outputs": [],
   "source": [
    "!unzip dvdrental.zip"
   ]
  },
  {
   "cell_type": "markdown",
   "metadata": {},
   "source": [
    "* Create the database in Postgres and restore it from the tarball."
   ]
  },
  {
   "cell_type": "code",
   "execution_count": null,
   "metadata": {},
   "outputs": [],
   "source": [
    "!createdb --owner=tom dvdrental\n",
    "!pg_restore -d dvdrental dvdrental.tar"
   ]
  },
  {
   "cell_type": "markdown",
   "metadata": {},
   "source": [
    "* Create a read-only user (e.g., for student access)"
   ]
  },
  {
   "cell_type": "code",
   "execution_count": null,
   "metadata": {},
   "outputs": [],
   "source": [
    "!createuser readonly"
   ]
  },
  {
   "cell_type": "markdown",
   "metadata": {},
   "source": [
    "* Grant the `readonly` user permission to read the `dvdrental` database."
   ]
  },
  {
   "cell_type": "code",
   "execution_count": null,
   "metadata": {},
   "outputs": [],
   "source": [
    "!psql dvdrental --command=\"GRANT SELECT ON ALL TABLES IN SCHEMA public TO readonly\""
   ]
  },
  {
   "cell_type": "markdown",
   "metadata": {},
   "source": [
    "* Make a query as the `readonly` user."
   ]
  },
  {
   "cell_type": "code",
   "execution_count": 4,
   "metadata": {},
   "outputs": [
    {
     "name": "stdout",
     "output_type": "stream",
     "text": [
      " actor_id | first_name |  last_name   |      last_update       \n",
      "----------+------------+--------------+------------------------\n",
      "        1 | Penelope   | Guiness      | 2013-05-26 14:47:57.62\n",
      "        2 | Nick       | Wahlberg     | 2013-05-26 14:47:57.62\n",
      "        3 | Ed         | Chase        | 2013-05-26 14:47:57.62\n",
      "        4 | Jennifer   | Davis        | 2013-05-26 14:47:57.62\n",
      "        5 | Johnny     | Lollobrigida | 2013-05-26 14:47:57.62\n",
      "        6 | Bette      | Nicholson    | 2013-05-26 14:47:57.62\n",
      "        7 | Grace      | Mostel       | 2013-05-26 14:47:57.62\n",
      "        8 | Matthew    | Johansson    | 2013-05-26 14:47:57.62\n",
      "        9 | Joe        | Swank        | 2013-05-26 14:47:57.62\n",
      "       10 | Christian  | Gable        | 2013-05-26 14:47:57.62\n",
      "(10 rows)\n",
      "\n"
     ]
    }
   ],
   "source": [
    "!psql --user=readonly dvdrental --command=\"SELECT * FROM actor LIMIT 10\""
   ]
  }
 ],
 "metadata": {
  "kernelspec": {
   "display_name": "Python 3",
   "language": "python",
   "name": "python3"
  },
  "language_info": {
   "codemirror_mode": {
    "name": "ipython",
    "version": 3
   },
   "file_extension": ".py",
   "mimetype": "text/x-python",
   "name": "python",
   "nbconvert_exporter": "python",
   "pygments_lexer": "ipython3",
   "version": "3.8.5"
  }
 },
 "nbformat": 4,
 "nbformat_minor": 4
}
